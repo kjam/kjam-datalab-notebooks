{
 "cells": [
  {
   "cell_type": "markdown",
   "metadata": {},
   "source": [
    "## Github: Analyzing PRs, Issues and Forks"
   ]
  },
  {
   "cell_type": "markdown",
   "metadata": {},
   "source": [
    "  * Do repositories with more issues lead to more Pull Requests? More Forks? Neither?"
   ]
  },
  {
   "cell_type": "code",
   "execution_count": 1,
   "metadata": {
    "collapsed": true
   },
   "outputs": [],
   "source": [
    "import gcp.bigquery as bq\n",
    "import matplotlib.pyplot as plot\n",
    "import numpy as np\n",
    "import pandas as pd"
   ]
  },
  {
   "cell_type": "code",
   "execution_count": 3,
   "metadata": {
    "collapsed": true
   },
   "outputs": [],
   "source": [
    "table = bq.Table('githubarchive:github.timeline')"
   ]
  },
  {
   "cell_type": "code",
   "execution_count": 7,
   "metadata": {
    "collapsed": false
   },
   "outputs": [
    {
     "data": {
      "text/html": [
       "\n",
       "    <div class=\"bqtv\" id=\"4_144722788717\"></div>\n",
       "    <br />(rows: 5, time: 1.3s,    21GB processed, job: job_ibhjVmH12vXCGeriW6dF1DoTKmU)<br />\n",
       "    <script>\n",
       "      require(['extensions/charting', 'element!4_144722788717', 'style!/static/extensions/charting.css'],\n",
       "        function(charts, dom) {\n",
       "          charts.render(dom,\n",
       "            {\n",
       "              chartStyle:\"table\",\n",
       "              dataName:\"2\",\n",
       "              fields:\"type,repository_name,repository_url,repository_forks\",\n",
       "              totalRows:5,\n",
       "              rowsPerPage:25,\n",
       "            }, {}, {\"rows\": [{\"c\": [{\"v\": \"IssuesEvent\"}, {\"v\": \"public-repo-20140709040449488\"}, {\"v\": \"https://github.com/octokit-net-test/public-repo-20140709040449488\"}, {\"v\": 0}]}, {\"c\": [{\"v\": \"PushEvent\"}, {\"v\": \"GongoDB\"}, {\"v\": \"https://github.com/no22/GongoDB\"}, {\"v\": 1}]}, {\"c\": [{\"v\": \"PushEvent\"}, {\"v\": \"ritchie\"}, {\"v\": \"https://github.com/riolet/ritchie\"}, {\"v\": 0}]}, {\"c\": [{\"v\": \"IssuesEvent\"}, {\"v\": \"public-repo-20140709040449488\"}, {\"v\": \"https://github.com/octokit-net-test/public-repo-20140709040449488\"}, {\"v\": 0}]}, {\"c\": [{\"v\": \"IssueCommentEvent\"}, {\"v\": \"ceylon-compiler\"}, {\"v\": \"https://github.com/ceylon/ceylon-compiler\"}, {\"v\": 34}]}], \"cols\": [{\"type\": \"string\", \"id\": \"type\", \"label\": \"type\"}, {\"type\": \"string\", \"id\": \"repository_name\", \"label\": \"repository_name\"}, {\"type\": \"string\", \"id\": \"repository_url\", \"label\": \"repository_url\"}, {\"type\": \"number\", \"id\": \"repository_forks\", \"label\": \"repository_forks\"}]});\n",
       "        }\n",
       "      );\n",
       "    </script>\n",
       "  "
      ],
      "text/plain": [
       "QueryResultsTable job_ibhjVmH12vXCGeriW6dF1DoTKmU"
      ]
     },
     "execution_count": 7,
     "metadata": {},
     "output_type": "execute_result"
    }
   ],
   "source": [
    "table.sample( ['type',\n",
    "               'repository_name',\n",
    "               'repository_url',\n",
    "               'repository_forks'])"
   ]
  },
  {
   "cell_type": "code",
   "execution_count": 9,
   "metadata": {
    "collapsed": true
   },
   "outputs": [],
   "source": [
    "%%sql --module github\n",
    "\n",
    "DEFINE QUERY github_types\n",
    "SELECT type, count(*) FROM [githubarchive:github.timeline] GROUP BY type;"
   ]
  },
  {
   "cell_type": "code",
   "execution_count": 11,
   "metadata": {
    "collapsed": false
   },
   "outputs": [
    {
     "data": {
      "text/html": [
       "\n",
       "    <div class=\"bqtv\" id=\"5_144722808962\"></div>\n",
       "    <br />(rows: 20, time: 9.8s,     3GB processed, job: job_-d5vT9jVjy4ENBY9VlSdVoQctmE)<br />\n",
       "    <script>\n",
       "      require(['extensions/charting', 'element!5_144722808962', 'style!/static/extensions/charting.css'],\n",
       "        function(charts, dom) {\n",
       "          charts.render(dom,\n",
       "            {\n",
       "              chartStyle:\"table\",\n",
       "              dataName:\"3\",\n",
       "              fields:\"type,f0_\",\n",
       "              totalRows:20,\n",
       "              rowsPerPage:25,\n",
       "            }, {}, {\"rows\": [{\"c\": [{\"v\": \"FollowEvent\"}, {\"v\": 3435804}]}, {\"c\": [{\"v\": \"ForkApplyEvent\"}, {\"v\": 5628}]}, {\"c\": [{\"v\": \"GollumEvent\"}, {\"v\": 4253087}]}, {\"c\": [{\"v\": \"GistEvent\"}, {\"v\": 4816399}]}, {\"c\": [{\"v\": \"TeamAddEvent\"}, {\"v\": 175909}]}, {\"c\": [{\"v\": \"ForkEvent\"}, {\"v\": 10037523}]}, {\"c\": [{\"v\": \"DeleteEvent\"}, {\"v\": 3680053}]}, {\"c\": [{\"v\": \"PublicEvent\"}, {\"v\": 261821}]}, {\"c\": [{\"v\": \"PullRequestEvent\"}, {\"v\": 11208920}]}, {\"c\": [{\"v\": \"DownloadEvent\"}, {\"v\": 302247}]}, {\"c\": [{\"v\": \"IssuesEvent\"}, {\"v\": 16166541}]}, {\"c\": [{\"v\": \"IssueCommentEvent\"}, {\"v\": 25056189}]}, {\"c\": [{\"v\": \"CommitCommentEvent\"}, {\"v\": 2493741}]}, {\"c\": [{\"v\": \"WatchEvent\"}, {\"v\": 26101411}]}, {\"c\": [{\"v\": \"PushEvent\"}, {\"v\": 140739368}]}, {\"c\": [{\"v\": \"CreateEvent\"}, {\"v\": 35483741}]}, {\"c\": [{\"v\": \"PullRequestReviewCommentEvent\"}, {\"v\": 3066117}]}, {\"c\": [{\"v\": \"ReleaseEvent\"}, {\"v\": 418180}]}, {\"c\": [{\"v\": null}, {\"v\": 952342}]}, {\"c\": [{\"v\": \"MemberEvent\"}, {\"v\": 1492529}]}], \"cols\": [{\"type\": \"string\", \"id\": \"type\", \"label\": \"type\"}, {\"type\": \"number\", \"id\": \"f0_\", \"label\": \"f0_\"}]});\n",
       "        }\n",
       "      );\n",
       "    </script>\n",
       "  "
      ],
      "text/plain": [
       "QueryResultsTable job_-d5vT9jVjy4ENBY9VlSdVoQctmE"
      ]
     },
     "execution_count": 11,
     "metadata": {},
     "output_type": "execute_result"
    }
   ],
   "source": [
    "bq.Query(github.github_types).results()"
   ]
  },
  {
   "cell_type": "code",
   "execution_count": 25,
   "metadata": {
    "collapsed": true
   },
   "outputs": [],
   "source": [
    "%%sql --module github\n",
    "\n",
    "DEFINE QUERY forks_issues_prs\n",
    "SELECT repository_name, type, count(*) as count\n",
    "FROM [githubarchive:github.timeline] \n",
    "WHERE type IN ('ForkEvent', 'PullRequestEvent', 'IssuesEvent')\n",
    "GROUP BY repository_name, type;"
   ]
  },
  {
   "cell_type": "code",
   "execution_count": 26,
   "metadata": {
    "collapsed": false
   },
   "outputs": [],
   "source": [
    "query = bq.Query(github.forks_issues_prs)"
   ]
  },
  {
   "cell_type": "code",
   "execution_count": 27,
   "metadata": {
    "collapsed": false
   },
   "outputs": [],
   "source": [
    "df = query.to_dataframe()"
   ]
  },
  {
   "cell_type": "code",
   "execution_count": 28,
   "metadata": {
    "collapsed": false
   },
   "outputs": [
    {
     "data": {
      "text/html": [
       "<div>\n",
       "<table border=\"1\" class=\"dataframe\">\n",
       "  <thead>\n",
       "    <tr style=\"text-align: right;\">\n",
       "      <th></th>\n",
       "      <th>repository_name</th>\n",
       "      <th>type</th>\n",
       "      <th>count</th>\n",
       "    </tr>\n",
       "  </thead>\n",
       "  <tbody>\n",
       "    <tr>\n",
       "      <th>0</th>\n",
       "      <td>dropzone</td>\n",
       "      <td>ForkEvent</td>\n",
       "      <td>2113</td>\n",
       "    </tr>\n",
       "    <tr>\n",
       "      <th>1</th>\n",
       "      <td>PSAP</td>\n",
       "      <td>IssuesEvent</td>\n",
       "      <td>368</td>\n",
       "    </tr>\n",
       "    <tr>\n",
       "      <th>2</th>\n",
       "      <td>vaultmp</td>\n",
       "      <td>ForkEvent</td>\n",
       "      <td>23</td>\n",
       "    </tr>\n",
       "    <tr>\n",
       "      <th>3</th>\n",
       "      <td>2048</td>\n",
       "      <td>ForkEvent</td>\n",
       "      <td>13654</td>\n",
       "    </tr>\n",
       "    <tr>\n",
       "      <th>4</th>\n",
       "      <td>tern</td>\n",
       "      <td>IssuesEvent</td>\n",
       "      <td>559</td>\n",
       "    </tr>\n",
       "  </tbody>\n",
       "</table>\n",
       "</div>"
      ],
      "text/plain": [
       "  repository_name         type  count\n",
       "0        dropzone    ForkEvent   2113\n",
       "1            PSAP  IssuesEvent    368\n",
       "2         vaultmp    ForkEvent     23\n",
       "3            2048    ForkEvent  13654\n",
       "4            tern  IssuesEvent    559"
      ]
     },
     "execution_count": 28,
     "metadata": {},
     "output_type": "execute_result"
    }
   ],
   "source": [
    "df.head()"
   ]
  },
  {
   "cell_type": "code",
   "execution_count": 33,
   "metadata": {
    "collapsed": false
   },
   "outputs": [],
   "source": [
    "df['fork_events'] = df.apply(lambda x: x['count'] if x['type'] == 'ForkEvent' else 0, axis=1 )"
   ]
  },
  {
   "cell_type": "code",
   "execution_count": 34,
   "metadata": {
    "collapsed": true
   },
   "outputs": [],
   "source": [
    "df['issues'] = df.apply(lambda x: x['count'] if x['type'] == 'IssuesEvent' else 0, axis=1 )"
   ]
  },
  {
   "cell_type": "code",
   "execution_count": 35,
   "metadata": {
    "collapsed": true
   },
   "outputs": [],
   "source": [
    "df['pull_requests'] = df.apply(lambda x: x['count'] if x['type'] == 'PullRequestEvent' else 0, axis=1)"
   ]
  },
  {
   "cell_type": "code",
   "execution_count": 36,
   "metadata": {
    "collapsed": false
   },
   "outputs": [
    {
     "data": {
      "text/html": [
       "<div>\n",
       "<table border=\"1\" class=\"dataframe\">\n",
       "  <thead>\n",
       "    <tr style=\"text-align: right;\">\n",
       "      <th></th>\n",
       "      <th>repository_name</th>\n",
       "      <th>type</th>\n",
       "      <th>count</th>\n",
       "      <th>fork_events</th>\n",
       "      <th>issues</th>\n",
       "      <th>pull_requests</th>\n",
       "    </tr>\n",
       "  </thead>\n",
       "  <tbody>\n",
       "    <tr>\n",
       "      <th>0</th>\n",
       "      <td>dropzone</td>\n",
       "      <td>ForkEvent</td>\n",
       "      <td>2113</td>\n",
       "      <td>2113</td>\n",
       "      <td>0</td>\n",
       "      <td>0</td>\n",
       "    </tr>\n",
       "    <tr>\n",
       "      <th>1</th>\n",
       "      <td>PSAP</td>\n",
       "      <td>IssuesEvent</td>\n",
       "      <td>368</td>\n",
       "      <td>0</td>\n",
       "      <td>368</td>\n",
       "      <td>0</td>\n",
       "    </tr>\n",
       "    <tr>\n",
       "      <th>2</th>\n",
       "      <td>vaultmp</td>\n",
       "      <td>ForkEvent</td>\n",
       "      <td>23</td>\n",
       "      <td>23</td>\n",
       "      <td>0</td>\n",
       "      <td>0</td>\n",
       "    </tr>\n",
       "    <tr>\n",
       "      <th>3</th>\n",
       "      <td>2048</td>\n",
       "      <td>ForkEvent</td>\n",
       "      <td>13654</td>\n",
       "      <td>13654</td>\n",
       "      <td>0</td>\n",
       "      <td>0</td>\n",
       "    </tr>\n",
       "    <tr>\n",
       "      <th>4</th>\n",
       "      <td>tern</td>\n",
       "      <td>IssuesEvent</td>\n",
       "      <td>559</td>\n",
       "      <td>0</td>\n",
       "      <td>559</td>\n",
       "      <td>0</td>\n",
       "    </tr>\n",
       "  </tbody>\n",
       "</table>\n",
       "</div>"
      ],
      "text/plain": [
       "  repository_name         type  count  fork_events  issues  pull_requests\n",
       "0        dropzone    ForkEvent   2113         2113       0              0\n",
       "1            PSAP  IssuesEvent    368            0     368              0\n",
       "2         vaultmp    ForkEvent     23           23       0              0\n",
       "3            2048    ForkEvent  13654        13654       0              0\n",
       "4            tern  IssuesEvent    559            0     559              0"
      ]
     },
     "execution_count": 36,
     "metadata": {},
     "output_type": "execute_result"
    }
   ],
   "source": [
    "df.head()"
   ]
  },
  {
   "cell_type": "code",
   "execution_count": 71,
   "metadata": {
    "collapsed": true
   },
   "outputs": [],
   "source": [
    "agg_df = df.groupby('repository_name').agg({'fork_events': np.max,\n",
    "                                            'issues': np.max,\n",
    "                                            'pull_requests': np.max})"
   ]
  },
  {
   "cell_type": "code",
   "execution_count": 72,
   "metadata": {
    "collapsed": false
   },
   "outputs": [
    {
     "data": {
      "text/html": [
       "<div>\n",
       "<table border=\"1\" class=\"dataframe\">\n",
       "  <thead>\n",
       "    <tr style=\"text-align: right;\">\n",
       "      <th></th>\n",
       "      <th>fork_events</th>\n",
       "      <th>issues</th>\n",
       "      <th>pull_requests</th>\n",
       "    </tr>\n",
       "    <tr>\n",
       "      <th>repository_name</th>\n",
       "      <th></th>\n",
       "      <th></th>\n",
       "      <th></th>\n",
       "    </tr>\n",
       "  </thead>\n",
       "  <tbody>\n",
       "    <tr>\n",
       "      <th>-</th>\n",
       "      <td>39</td>\n",
       "      <td>71465</td>\n",
       "      <td>32</td>\n",
       "    </tr>\n",
       "    <tr>\n",
       "      <th>--</th>\n",
       "      <td>30</td>\n",
       "      <td>5</td>\n",
       "      <td>3</td>\n",
       "    </tr>\n",
       "    <tr>\n",
       "      <th>---</th>\n",
       "      <td>50</td>\n",
       "      <td>23</td>\n",
       "      <td>56</td>\n",
       "    </tr>\n",
       "    <tr>\n",
       "      <th>----</th>\n",
       "      <td>24</td>\n",
       "      <td>830</td>\n",
       "      <td>11</td>\n",
       "    </tr>\n",
       "    <tr>\n",
       "      <th>-----</th>\n",
       "      <td>4</td>\n",
       "      <td>14</td>\n",
       "      <td>2</td>\n",
       "    </tr>\n",
       "  </tbody>\n",
       "</table>\n",
       "</div>"
      ],
      "text/plain": [
       "                 fork_events  issues  pull_requests\n",
       "repository_name                                    \n",
       "-                         39   71465             32\n",
       "--                        30       5              3\n",
       "---                       50      23             56\n",
       "----                      24     830             11\n",
       "-----                      4      14              2"
      ]
     },
     "execution_count": 72,
     "metadata": {},
     "output_type": "execute_result"
    }
   ],
   "source": [
    "agg_df.head()"
   ]
  },
  {
   "cell_type": "code",
   "execution_count": 39,
   "metadata": {
    "collapsed": false
   },
   "outputs": [
    {
     "data": {
      "text/plain": [
       "fork_events       1904\n",
       "issues           12338\n",
       "pull_requests     6805\n",
       "Name: pandas, dtype: int64"
      ]
     },
     "execution_count": 39,
     "metadata": {},
     "output_type": "execute_result"
    }
   ],
   "source": [
    "agg_df.loc['pandas']"
   ]
  },
  {
   "cell_type": "code",
   "execution_count": 40,
   "metadata": {
    "collapsed": false
   },
   "outputs": [
    {
     "data": {
      "text/html": [
       "<div>\n",
       "<table border=\"1\" class=\"dataframe\">\n",
       "  <thead>\n",
       "    <tr style=\"text-align: right;\">\n",
       "      <th></th>\n",
       "      <th>fork_events</th>\n",
       "      <th>issues</th>\n",
       "      <th>pull_requests</th>\n",
       "    </tr>\n",
       "  </thead>\n",
       "  <tbody>\n",
       "    <tr>\n",
       "      <th>count</th>\n",
       "      <td>1418737.000000</td>\n",
       "      <td>1418737.000000</td>\n",
       "      <td>1418737.000000</td>\n",
       "    </tr>\n",
       "    <tr>\n",
       "      <th>mean</th>\n",
       "      <td>7.074952</td>\n",
       "      <td>11.384694</td>\n",
       "      <td>7.897827</td>\n",
       "    </tr>\n",
       "    <tr>\n",
       "      <th>std</th>\n",
       "      <td>129.797799</td>\n",
       "      <td>324.103597</td>\n",
       "      <td>162.287800</td>\n",
       "    </tr>\n",
       "    <tr>\n",
       "      <th>min</th>\n",
       "      <td>0.000000</td>\n",
       "      <td>0.000000</td>\n",
       "      <td>0.000000</td>\n",
       "    </tr>\n",
       "    <tr>\n",
       "      <th>25%</th>\n",
       "      <td>0.000000</td>\n",
       "      <td>0.000000</td>\n",
       "      <td>0.000000</td>\n",
       "    </tr>\n",
       "    <tr>\n",
       "      <th>50%</th>\n",
       "      <td>1.000000</td>\n",
       "      <td>0.000000</td>\n",
       "      <td>0.000000</td>\n",
       "    </tr>\n",
       "    <tr>\n",
       "      <th>75%</th>\n",
       "      <td>3.000000</td>\n",
       "      <td>3.000000</td>\n",
       "      <td>2.000000</td>\n",
       "    </tr>\n",
       "    <tr>\n",
       "      <th>max</th>\n",
       "      <td>69325.000000</td>\n",
       "      <td>275554.000000</td>\n",
       "      <td>96123.000000</td>\n",
       "    </tr>\n",
       "  </tbody>\n",
       "</table>\n",
       "</div>"
      ],
      "text/plain": [
       "          fork_events          issues   pull_requests\n",
       "count  1418737.000000  1418737.000000  1418737.000000\n",
       "mean         7.074952       11.384694        7.897827\n",
       "std        129.797799      324.103597      162.287800\n",
       "min          0.000000        0.000000        0.000000\n",
       "25%          0.000000        0.000000        0.000000\n",
       "50%          1.000000        0.000000        0.000000\n",
       "75%          3.000000        3.000000        2.000000\n",
       "max      69325.000000   275554.000000    96123.000000"
      ]
     },
     "execution_count": 40,
     "metadata": {},
     "output_type": "execute_result"
    }
   ],
   "source": [
    "agg_df.describe()"
   ]
  },
  {
   "cell_type": "code",
   "execution_count": 42,
   "metadata": {
    "collapsed": false
   },
   "outputs": [
    {
     "data": {
      "text/html": [
       "<div>\n",
       "<table border=\"1\" class=\"dataframe\">\n",
       "  <thead>\n",
       "    <tr style=\"text-align: right;\">\n",
       "      <th></th>\n",
       "      <th>fork_events</th>\n",
       "      <th>issues</th>\n",
       "      <th>pull_requests</th>\n",
       "    </tr>\n",
       "  </thead>\n",
       "  <tbody>\n",
       "    <tr>\n",
       "      <th>fork_events</th>\n",
       "      <td>1.000000</td>\n",
       "      <td>0.143728</td>\n",
       "      <td>0.280959</td>\n",
       "    </tr>\n",
       "    <tr>\n",
       "      <th>issues</th>\n",
       "      <td>0.143728</td>\n",
       "      <td>1.000000</td>\n",
       "      <td>0.200798</td>\n",
       "    </tr>\n",
       "    <tr>\n",
       "      <th>pull_requests</th>\n",
       "      <td>0.280959</td>\n",
       "      <td>0.200798</td>\n",
       "      <td>1.000000</td>\n",
       "    </tr>\n",
       "  </tbody>\n",
       "</table>\n",
       "</div>"
      ],
      "text/plain": [
       "               fork_events    issues  pull_requests\n",
       "fork_events       1.000000  0.143728       0.280959\n",
       "issues            0.143728  1.000000       0.200798\n",
       "pull_requests     0.280959  0.200798       1.000000"
      ]
     },
     "execution_count": 42,
     "metadata": {},
     "output_type": "execute_result"
    }
   ],
   "source": [
    "agg_df.corr()"
   ]
  },
  {
   "cell_type": "code",
   "execution_count": 43,
   "metadata": {
    "collapsed": false
   },
   "outputs": [
    {
     "data": {
      "text/html": [
       "<div>\n",
       "<table border=\"1\" class=\"dataframe\">\n",
       "  <thead>\n",
       "    <tr style=\"text-align: right;\">\n",
       "      <th></th>\n",
       "      <th>fork_events</th>\n",
       "      <th>issues</th>\n",
       "      <th>pull_requests</th>\n",
       "    </tr>\n",
       "  </thead>\n",
       "  <tbody>\n",
       "    <tr>\n",
       "      <th>fork_events</th>\n",
       "      <td>1.000000</td>\n",
       "      <td>-0.078702</td>\n",
       "      <td>0.365112</td>\n",
       "    </tr>\n",
       "    <tr>\n",
       "      <th>issues</th>\n",
       "      <td>-0.078702</td>\n",
       "      <td>1.000000</td>\n",
       "      <td>0.159426</td>\n",
       "    </tr>\n",
       "    <tr>\n",
       "      <th>pull_requests</th>\n",
       "      <td>0.365112</td>\n",
       "      <td>0.159426</td>\n",
       "      <td>1.000000</td>\n",
       "    </tr>\n",
       "  </tbody>\n",
       "</table>\n",
       "</div>"
      ],
      "text/plain": [
       "               fork_events    issues  pull_requests\n",
       "fork_events       1.000000 -0.078702       0.365112\n",
       "issues           -0.078702  1.000000       0.159426\n",
       "pull_requests     0.365112  0.159426       1.000000"
      ]
     },
     "execution_count": 43,
     "metadata": {},
     "output_type": "execute_result"
    }
   ],
   "source": [
    "agg_df.corr(method='spearman')"
   ]
  },
  {
   "cell_type": "code",
   "execution_count": 73,
   "metadata": {
    "collapsed": false
   },
   "outputs": [
    {
     "data": {
      "text/html": [
       "<div>\n",
       "<table border=\"1\" class=\"dataframe\">\n",
       "  <thead>\n",
       "    <tr style=\"text-align: right;\">\n",
       "      <th>repository_name</th>\n",
       "      <th>-</th>\n",
       "      <th>--</th>\n",
       "      <th>---</th>\n",
       "      <th>----</th>\n",
       "      <th>-----</th>\n",
       "      <th>------</th>\n",
       "      <th>-------</th>\n",
       "      <th>--------</th>\n",
       "      <th>---------</th>\n",
       "      <th>----------</th>\n",
       "      <th>...</th>\n",
       "      <th>zzzcron</th>\n",
       "      <th>zzzdummy</th>\n",
       "      <th>zzzdummyrepo</th>\n",
       "      <th>zzzeek_pycon2014_atmcraft</th>\n",
       "      <th>zzzely.github.com</th>\n",
       "      <th>zzzhc.github.com</th>\n",
       "      <th>zzzine</th>\n",
       "      <th>zzzj</th>\n",
       "      <th>zzzzz</th>\n",
       "      <th>zzzzzzzzzzzzzzz</th>\n",
       "    </tr>\n",
       "  </thead>\n",
       "  <tbody>\n",
       "    <tr>\n",
       "      <th>fork_events</th>\n",
       "      <td>False</td>\n",
       "      <td>False</td>\n",
       "      <td>False</td>\n",
       "      <td>False</td>\n",
       "      <td>False</td>\n",
       "      <td>False</td>\n",
       "      <td>False</td>\n",
       "      <td>False</td>\n",
       "      <td>False</td>\n",
       "      <td>False</td>\n",
       "      <td>...</td>\n",
       "      <td>False</td>\n",
       "      <td>False</td>\n",
       "      <td>False</td>\n",
       "      <td>False</td>\n",
       "      <td>False</td>\n",
       "      <td>False</td>\n",
       "      <td>False</td>\n",
       "      <td>False</td>\n",
       "      <td>False</td>\n",
       "      <td>False</td>\n",
       "    </tr>\n",
       "    <tr>\n",
       "      <th>issues</th>\n",
       "      <td>True</td>\n",
       "      <td>False</td>\n",
       "      <td>False</td>\n",
       "      <td>True</td>\n",
       "      <td>False</td>\n",
       "      <td>False</td>\n",
       "      <td>False</td>\n",
       "      <td>False</td>\n",
       "      <td>True</td>\n",
       "      <td>False</td>\n",
       "      <td>...</td>\n",
       "      <td>False</td>\n",
       "      <td>False</td>\n",
       "      <td>False</td>\n",
       "      <td>False</td>\n",
       "      <td>False</td>\n",
       "      <td>False</td>\n",
       "      <td>False</td>\n",
       "      <td>False</td>\n",
       "      <td>False</td>\n",
       "      <td>False</td>\n",
       "    </tr>\n",
       "    <tr>\n",
       "      <th>pull_requests</th>\n",
       "      <td>False</td>\n",
       "      <td>False</td>\n",
       "      <td>True</td>\n",
       "      <td>False</td>\n",
       "      <td>False</td>\n",
       "      <td>False</td>\n",
       "      <td>False</td>\n",
       "      <td>False</td>\n",
       "      <td>False</td>\n",
       "      <td>False</td>\n",
       "      <td>...</td>\n",
       "      <td>False</td>\n",
       "      <td>False</td>\n",
       "      <td>False</td>\n",
       "      <td>False</td>\n",
       "      <td>False</td>\n",
       "      <td>False</td>\n",
       "      <td>False</td>\n",
       "      <td>False</td>\n",
       "      <td>False</td>\n",
       "      <td>False</td>\n",
       "    </tr>\n",
       "  </tbody>\n",
       "</table>\n",
       "<p>3 rows × 1418737 columns</p>\n",
       "</div>"
      ],
      "text/plain": [
       "repository_name      -     --    ---   ----  ----- ------ ------- --------  \\\n",
       "fork_events      False  False  False  False  False  False   False    False   \n",
       "issues            True  False  False   True  False  False   False    False   \n",
       "pull_requests    False  False   True  False  False  False   False    False   \n",
       "\n",
       "repository_name --------- ----------       ...       zzzcron zzzdummy  \\\n",
       "fork_events         False      False       ...         False    False   \n",
       "issues               True      False       ...         False    False   \n",
       "pull_requests       False      False       ...         False    False   \n",
       "\n",
       "repository_name zzzdummyrepo zzzeek_pycon2014_atmcraft zzzely.github.com  \\\n",
       "fork_events            False                     False             False   \n",
       "issues                 False                     False             False   \n",
       "pull_requests          False                     False             False   \n",
       "\n",
       "repository_name zzzhc.github.com zzzine   zzzj  zzzzz zzzzzzzzzzzzzzz  \n",
       "fork_events                False  False  False  False           False  \n",
       "issues                     False  False  False  False           False  \n",
       "pull_requests              False  False  False  False           False  \n",
       "\n",
       "[3 rows x 1418737 columns]"
      ]
     },
     "execution_count": 73,
     "metadata": {},
     "output_type": "execute_result"
    }
   ],
   "source": [
    "agg_df.T > 50"
   ]
  },
  {
   "cell_type": "code",
   "execution_count": 74,
   "metadata": {
    "collapsed": false
   },
   "outputs": [],
   "source": [
    "agg_df = agg_df[(agg_df.T > 50).any()]"
   ]
  },
  {
   "cell_type": "code",
   "execution_count": 75,
   "metadata": {
    "collapsed": false
   },
   "outputs": [
    {
     "data": {
      "text/html": [
       "<div>\n",
       "<table border=\"1\" class=\"dataframe\">\n",
       "  <thead>\n",
       "    <tr style=\"text-align: right;\">\n",
       "      <th></th>\n",
       "      <th>fork_events</th>\n",
       "      <th>issues</th>\n",
       "      <th>pull_requests</th>\n",
       "    </tr>\n",
       "  </thead>\n",
       "  <tbody>\n",
       "    <tr>\n",
       "      <th>fork_events</th>\n",
       "      <td>1.000000</td>\n",
       "      <td>0.128756</td>\n",
       "      <td>0.263919</td>\n",
       "    </tr>\n",
       "    <tr>\n",
       "      <th>issues</th>\n",
       "      <td>0.128756</td>\n",
       "      <td>1.000000</td>\n",
       "      <td>0.186318</td>\n",
       "    </tr>\n",
       "    <tr>\n",
       "      <th>pull_requests</th>\n",
       "      <td>0.263919</td>\n",
       "      <td>0.186318</td>\n",
       "      <td>1.000000</td>\n",
       "    </tr>\n",
       "  </tbody>\n",
       "</table>\n",
       "</div>"
      ],
      "text/plain": [
       "               fork_events    issues  pull_requests\n",
       "fork_events       1.000000  0.128756       0.263919\n",
       "issues            0.128756  1.000000       0.186318\n",
       "pull_requests     0.263919  0.186318       1.000000"
      ]
     },
     "execution_count": 75,
     "metadata": {},
     "output_type": "execute_result"
    }
   ],
   "source": [
    "agg_df.corr()"
   ]
  },
  {
   "cell_type": "code",
   "execution_count": 76,
   "metadata": {
    "collapsed": false
   },
   "outputs": [
    {
     "data": {
      "text/html": [
       "<div>\n",
       "<table border=\"1\" class=\"dataframe\">\n",
       "  <thead>\n",
       "    <tr style=\"text-align: right;\">\n",
       "      <th></th>\n",
       "      <th>fork_events</th>\n",
       "      <th>issues</th>\n",
       "      <th>pull_requests</th>\n",
       "    </tr>\n",
       "  </thead>\n",
       "  <tbody>\n",
       "    <tr>\n",
       "      <th>count</th>\n",
       "      <td>71799.000000</td>\n",
       "      <td>71799.000000</td>\n",
       "      <td>71799.000000</td>\n",
       "    </tr>\n",
       "    <tr>\n",
       "      <th>mean</th>\n",
       "      <td>90.560258</td>\n",
       "      <td>174.238360</td>\n",
       "      <td>116.624814</td>\n",
       "    </tr>\n",
       "    <tr>\n",
       "      <th>std</th>\n",
       "      <td>570.136142</td>\n",
       "      <td>1430.718704</td>\n",
       "      <td>712.321660</td>\n",
       "    </tr>\n",
       "    <tr>\n",
       "      <th>min</th>\n",
       "      <td>0.000000</td>\n",
       "      <td>0.000000</td>\n",
       "      <td>0.000000</td>\n",
       "    </tr>\n",
       "    <tr>\n",
       "      <th>25%</th>\n",
       "      <td>3.000000</td>\n",
       "      <td>17.000000</td>\n",
       "      <td>4.000000</td>\n",
       "    </tr>\n",
       "    <tr>\n",
       "      <th>50%</th>\n",
       "      <td>22.000000</td>\n",
       "      <td>64.000000</td>\n",
       "      <td>35.000000</td>\n",
       "    </tr>\n",
       "    <tr>\n",
       "      <th>75%</th>\n",
       "      <td>75.000000</td>\n",
       "      <td>129.000000</td>\n",
       "      <td>90.000000</td>\n",
       "    </tr>\n",
       "    <tr>\n",
       "      <th>max</th>\n",
       "      <td>69325.000000</td>\n",
       "      <td>275554.000000</td>\n",
       "      <td>96123.000000</td>\n",
       "    </tr>\n",
       "  </tbody>\n",
       "</table>\n",
       "</div>"
      ],
      "text/plain": [
       "        fork_events         issues  pull_requests\n",
       "count  71799.000000   71799.000000   71799.000000\n",
       "mean      90.560258     174.238360     116.624814\n",
       "std      570.136142    1430.718704     712.321660\n",
       "min        0.000000       0.000000       0.000000\n",
       "25%        3.000000      17.000000       4.000000\n",
       "50%       22.000000      64.000000      35.000000\n",
       "75%       75.000000     129.000000      90.000000\n",
       "max    69325.000000  275554.000000   96123.000000"
      ]
     },
     "execution_count": 76,
     "metadata": {},
     "output_type": "execute_result"
    }
   ],
   "source": [
    "agg_df.describe()"
   ]
  },
  {
   "cell_type": "code",
   "execution_count": 85,
   "metadata": {
    "collapsed": false
   },
   "outputs": [
    {
     "data": {
      "image/png": "[encoded data removed]",
      "text/plain": [
       "<matplotlib.figure.Figure at 0x7f1634636490>"
      ]
     },
     "metadata": {},
     "output_type": "display_data"
    }
   ],
   "source": [
    "agg_df.plot(kind='scatter', x='issues', y='pull_requests', c=agg_df['fork_events'])"
   ]
  },
  {
   "cell_type": "code",
   "execution_count": 87,
   "metadata": {
    "collapsed": false
   },
   "outputs": [
    {
     "data": {
      "text/plain": [
       "fork_events       570.136142\n",
       "issues           1430.718704\n",
       "pull_requests     712.321660\n",
       "dtype: float64"
      ]
     },
     "execution_count": 87,
     "metadata": {},
     "output_type": "execute_result"
    }
   ],
   "source": [
    "agg_df.std()"
   ]
  },
  {
   "cell_type": "code",
   "execution_count": 92,
   "metadata": {
    "collapsed": true
   },
   "outputs": [],
   "source": [
    "outliers = agg_df[agg_df.apply(lambda x: np.abs(x - x.mean()) / x.std() > 3).all(axis=1)]"
   ]
  },
  {
   "cell_type": "code",
   "execution_count": 93,
   "metadata": {
    "collapsed": false
   },
   "outputs": [
    {
     "data": {
      "text/html": [
       "<div>\n",
       "<table border=\"1\" class=\"dataframe\">\n",
       "  <thead>\n",
       "    <tr style=\"text-align: right;\">\n",
       "      <th></th>\n",
       "      <th>fork_events</th>\n",
       "      <th>issues</th>\n",
       "      <th>pull_requests</th>\n",
       "    </tr>\n",
       "    <tr>\n",
       "      <th>repository_name</th>\n",
       "      <th></th>\n",
       "      <th></th>\n",
       "      <th></th>\n",
       "    </tr>\n",
       "  </thead>\n",
       "  <tbody>\n",
       "    <tr>\n",
       "      <th>TrinityCore</th>\n",
       "      <td>7095</td>\n",
       "      <td>21615</td>\n",
       "      <td>6747</td>\n",
       "    </tr>\n",
       "    <tr>\n",
       "      <th>android</th>\n",
       "      <td>13951</td>\n",
       "      <td>8638</td>\n",
       "      <td>3297</td>\n",
       "    </tr>\n",
       "    <tr>\n",
       "      <th>angular.js</th>\n",
       "      <td>16986</td>\n",
       "      <td>10545</td>\n",
       "      <td>10470</td>\n",
       "    </tr>\n",
       "    <tr>\n",
       "      <th>ansible</th>\n",
       "      <td>4317</td>\n",
       "      <td>9767</td>\n",
       "      <td>13113</td>\n",
       "    </tr>\n",
       "    <tr>\n",
       "      <th>blog</th>\n",
       "      <td>4484</td>\n",
       "      <td>5589</td>\n",
       "      <td>4755</td>\n",
       "    </tr>\n",
       "  </tbody>\n",
       "</table>\n",
       "</div>"
      ],
      "text/plain": [
       "                 fork_events  issues  pull_requests\n",
       "repository_name                                    \n",
       "TrinityCore             7095   21615           6747\n",
       "android                13951    8638           3297\n",
       "angular.js             16986   10545          10470\n",
       "ansible                 4317    9767          13113\n",
       "blog                    4484    5589           4755"
      ]
     },
     "execution_count": 93,
     "metadata": {},
     "output_type": "execute_result"
    }
   ],
   "source": [
    "outliers.head()"
   ]
  },
  {
   "cell_type": "code",
   "execution_count": 95,
   "metadata": {
    "collapsed": false
   },
   "outputs": [],
   "source": [
    "norms = agg_df[agg_df.apply(lambda x: np.abs(x - x.mean()) / x.std() <= 3).all(axis=1) ]"
   ]
  },
  {
   "cell_type": "code",
   "execution_count": 96,
   "metadata": {
    "collapsed": false
   },
   "outputs": [
    {
     "data": {
      "text/html": [
       "<div>\n",
       "<table border=\"1\" class=\"dataframe\">\n",
       "  <thead>\n",
       "    <tr style=\"text-align: right;\">\n",
       "      <th></th>\n",
       "      <th>fork_events</th>\n",
       "      <th>issues</th>\n",
       "      <th>pull_requests</th>\n",
       "    </tr>\n",
       "    <tr>\n",
       "      <th>repository_name</th>\n",
       "      <th></th>\n",
       "      <th></th>\n",
       "      <th></th>\n",
       "    </tr>\n",
       "  </thead>\n",
       "  <tbody>\n",
       "    <tr>\n",
       "      <th>---</th>\n",
       "      <td>50</td>\n",
       "      <td>23</td>\n",
       "      <td>56</td>\n",
       "    </tr>\n",
       "    <tr>\n",
       "      <th>----</th>\n",
       "      <td>24</td>\n",
       "      <td>830</td>\n",
       "      <td>11</td>\n",
       "    </tr>\n",
       "    <tr>\n",
       "      <th>-------------</th>\n",
       "      <td>0</td>\n",
       "      <td>58</td>\n",
       "      <td>0</td>\n",
       "    </tr>\n",
       "    <tr>\n",
       "      <th>---------------</th>\n",
       "      <td>0</td>\n",
       "      <td>126</td>\n",
       "      <td>0</td>\n",
       "    </tr>\n",
       "    <tr>\n",
       "      <th>--LIVE99.TK-</th>\n",
       "      <td>0</td>\n",
       "      <td>88</td>\n",
       "      <td>0</td>\n",
       "    </tr>\n",
       "  </tbody>\n",
       "</table>\n",
       "</div>"
      ],
      "text/plain": [
       "                 fork_events  issues  pull_requests\n",
       "repository_name                                    \n",
       "---                       50      23             56\n",
       "----                      24     830             11\n",
       "-------------              0      58              0\n",
       "---------------            0     126              0\n",
       "--LIVE99.TK-               0      88              0"
      ]
     },
     "execution_count": 96,
     "metadata": {},
     "output_type": "execute_result"
    }
   ],
   "source": [
    "norms.head()"
   ]
  },
  {
   "cell_type": "code",
   "execution_count": 104,
   "metadata": {
    "collapsed": false
   },
   "outputs": [
    {
     "data": {
      "text/plain": [
       "<matplotlib.axes._subplots.AxesSubplot at 0x7f162c5f4390>"
      ]
     },
     "execution_count": 104,
     "metadata": {},
     "output_type": "execute_result"
    },
    {
     "data": {
      "image/png": "[encoded data removed]",
      "text/plain": [
       "<matplotlib.figure.Figure at 0x7f162c5ebc10>"
      ]
     },
     "metadata": {},
     "output_type": "display_data"
    }
   ],
   "source": [
    "norms.plot(kind='scatter', x='issues', y='pull_requests', c='fork_events', s=50)"
   ]
  },
  {
   "cell_type": "code",
   "execution_count": 102,
   "metadata": {
    "collapsed": false
   },
   "outputs": [
    {
     "data": {
      "text/plain": [
       "<matplotlib.axes._subplots.AxesSubplot at 0x7f1633963ad0>"
      ]
     },
     "execution_count": 102,
     "metadata": {},
     "output_type": "execute_result"
    },
    {
     "data": {
      "image/png": "[encoded data removed]",
      "text/plain": [
       "<matplotlib.figure.Figure at 0x7f162c748810>"
      ]
     },
     "metadata": {},
     "output_type": "display_data"
    }
   ],
   "source": [
    "outliers.plot(kind='scatter', x='issues', y='pull_requests', c='fork_events', s=100)"
   ]
  },
  {
   "cell_type": "code",
   "execution_count": null,
   "metadata": {
    "collapsed": true
   },
   "outputs": [],
   "source": []
  },
  {
   "cell_type": "markdown",
   "metadata": {},
   "source": [
    "### Possible next questions: \n",
    "- Does the correlation vary based on number of contributors? Language?\n",
    "- Focus only on past year of history\n",
    "- Focus only on repositories with / without a certain number of contributors or only \"active\" (i.e. have had at least 10 commits in past 3 months).\n"
   ]
  },
  {
   "cell_type": "code",
   "execution_count": null,
   "metadata": {
    "collapsed": true
   },
   "outputs": [],
   "source": []
  }
 ],
 "metadata": {
  "kernelspec": {
   "display_name": "Python 2",
   "language": "python",
   "name": "python2"
  },
  "language_info": {
   "codemirror_mode": {
    "name": "ipython",
    "version": 2
   },
   "file_extension": ".py",
   "mimetype": "text/x-python",
   "name": "python",
   "nbconvert_exporter": "python",
   "pygments_lexer": "ipython2",
   "version": "2.7.9"
  }
 },
 "nbformat": 4,
 "nbformat_minor": 0
}
